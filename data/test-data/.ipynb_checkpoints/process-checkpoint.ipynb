{
 "cells": [
  {
   "cell_type": "code",
   "execution_count": 8,
   "id": "f39172b6-f82c-463e-b7ff-ac3409e776a2",
   "metadata": {},
   "outputs": [],
   "source": [
    "import json\n",
    "with open(\"shopping-classification-test.json\", \"r\") as fp:\n",
    "    list_dict = json.load(fp)"
   ]
  },
  {
   "cell_type": "code",
   "execution_count": 9,
   "id": "84cdb518-5ca7-441d-bfc4-bf40800deb70",
   "metadata": {},
   "outputs": [],
   "source": [
    "new_list = []\n",
    "for item in list_dict:\n",
    "    item['instruction'] = str(item['input_field'])\n",
    "    item['output'] = str(item['output_field'])\n",
    "    item['input'] = \"\"\n",
    "    item['system'] = \"\"\n",
    "    item['history'] = \"\"\n",
    "    del item['input_field']\n",
    "    del item['output_field']\n",
    "    if len(item['instruction']) >= 1 and len(item['output']) >= 1:\n",
    "        new_list.append(item)\n"
   ]
  },
  {
   "cell_type": "code",
   "execution_count": 10,
   "id": "10b20972-380f-479b-8a08-37a00116e03f",
   "metadata": {},
   "outputs": [],
   "source": [
    "with open(\"shopping-classification-test.json\", \"w\") as fp:\n",
    "    new_list_str = json.dumps(new_list,  indent=4, separators=(',', ': '))\n",
    "    fp.write(new_list_str)"
   ]
  },
  {
   "cell_type": "code",
   "execution_count": 11,
   "id": "3ca1db3b-154c-4b4c-85a4-f6ae8ccd1d1f",
   "metadata": {},
   "outputs": [],
   "source": [
    "import json\n",
    "with open(\"shopping-generation-test.json\", \"r\") as fp:\n",
    "    list_dict = json.load(fp)\n",
    "new_list = []\n",
    "for item in list_dict:\n",
    "    item['instruction'] = str(item['input_field'])\n",
    "    item['output'] = str(item['output_field'])\n",
    "    item['input'] = \"\"\n",
    "    item['system'] = \"\"\n",
    "    item['history'] = \"\"\n",
    "    del item['input_field']\n",
    "    del item['output_field']\n",
    "    if len(item['instruction']) >= 1 and len(item['output']) >= 1:\n",
    "        new_list.append(item)\n",
    "with open(\"shopping-generation-test.json\", \"w\") as fp:\n",
    "    new_list_str = json.dumps(new_list,  indent=4, separators=(',', ': '))\n",
    "    fp.write(new_list_str)"
   ]
  },
  {
   "cell_type": "code",
   "execution_count": 13,
   "id": "cbf4abdc-8808-4e1e-8739-0bc5ce5529a9",
   "metadata": {},
   "outputs": [],
   "source": [
    "import json\n",
    "with open(\"shopping-multiple_choice-test.json\", \"r\") as fp:\n",
    "    list_dict = json.load(fp)\n",
    "new_list = []\n",
    "for item in list_dict:\n",
    "    item['instruction'] = str(item['input_field'])\n",
    "    item['output'] = str(item['output_field'])\n",
    "    item['input'] = \"\"\n",
    "    item['system'] = \"\"\n",
    "    item['history'] = \"\"\n",
    "    del item['input_field']\n",
    "    del item['output_field']\n",
    "    if len(item['instruction']) >= 1 and len(item['output']) >= 1:\n",
    "        new_list.append(item)\n",
    "with open(\"shopping-multiple_choice-test.json\", \"w\") as fp:\n",
    "    new_list_str = json.dumps(new_list,  indent=4, separators=(',', ': '))\n",
    "    fp.write(new_list_str)"
   ]
  },
  {
   "cell_type": "code",
   "execution_count": 14,
   "id": "646ecc46-9257-425f-8afb-26497ae9f33b",
   "metadata": {},
   "outputs": [],
   "source": [
    "import json\n",
    "with open(\"shopping-named_entity_recognition-test.json\", \"r\") as fp:\n",
    "    list_dict = json.load(fp)\n",
    "new_list = []\n",
    "for item in list_dict:\n",
    "    item['instruction'] = str(item['input_field'])\n",
    "    item['output'] = str(item['output_field'])\n",
    "    item['input'] = \"\"\n",
    "    item['system'] = \"\"\n",
    "    item['history'] = \"\"\n",
    "    del item['input_field']\n",
    "    del item['output_field']\n",
    "    if len(item['instruction']) >= 1 and len(item['output']) >= 1:\n",
    "        new_list.append(item)\n",
    "with open(\"shopping-named_entity_recognition-test.json\", \"w\") as fp:\n",
    "    new_list_str = json.dumps(new_list,  indent=4, separators=(',', ': '))\n",
    "    fp.write(new_list_str)"
   ]
  },
  {
   "cell_type": "code",
   "execution_count": null,
   "id": "f3aac358-e17e-4eaf-952a-41fd724e7851",
   "metadata": {},
   "outputs": [],
   "source": [
    "import json\n",
    "with open(\"shopping-ranking-test.json\", \"r\") as fp:\n",
    "    list_dict = json.load(fp)\n",
    "new_list = []\n",
    "for item in list_dict:\n",
    "    item['instruction'] = str(item['input_field'])\n",
    "    item['output'] = str(item['output_field'])\n",
    "    item['input'] = \"\"\n",
    "    item['system'] = \"\"\n",
    "    item['history'] = \"\"\n",
    "    del item['input_field']\n",
    "    del item['output_field']\n",
    "    if len(item['instruction']) >= 1 and len(item['output']) >= 1:\n",
    "        new_list.append(item)\n",
    "with open(\"shopping-ranking-test.json\", \"w\") as fp:\n",
    "    new_list_str = json.dumps(new_list,  indent=4, separators=(',', ': '))\n",
    "    fp.write(new_list_str)"
   ]
  }
 ],
 "metadata": {
  "kernelspec": {
   "display_name": "Python 3 (ipykernel)",
   "language": "python",
   "name": "python3"
  },
  "language_info": {
   "codemirror_mode": {
    "name": "ipython",
    "version": 3
   },
   "file_extension": ".py",
   "mimetype": "text/x-python",
   "name": "python",
   "nbconvert_exporter": "python",
   "pygments_lexer": "ipython3",
   "version": "3.11.7"
  }
 },
 "nbformat": 4,
 "nbformat_minor": 5
}
