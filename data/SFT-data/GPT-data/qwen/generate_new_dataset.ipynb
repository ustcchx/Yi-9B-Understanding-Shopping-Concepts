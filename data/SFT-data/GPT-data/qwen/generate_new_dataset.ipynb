{
 "cells": [
  {
   "cell_type": "code",
   "execution_count": 1,
   "id": "8829e0c1-bed9-498f-9061-c9e415a9fbe8",
   "metadata": {},
   "outputs": [],
   "source": [
    "import json\n",
    "import requests\n",
    "import asyncio\n",
    "import random\n",
    "import pandas as pd\n",
    "from rouge import Rouge\n",
    "import nltk\n",
    "import nest_asyncio\n",
    "import time\n",
    "import aiohttp  \n",
    "\n",
    "nest_asyncio.apply()\n",
    "dataset_list = []\n",
    "\n",
    "with open(\"development.json\", \"r\") as file:\n",
    "    seed_data = json.load(file)\n",
    "\n",
    "with open(\"shopping_chatglm_data.json\", \"r\") as file:\n",
    "    dataset_list = json.load(file)\n",
    "data_str = [item[\"text\"] for item in dataset_list]\n",
    "df_seed = pd.DataFrame(seed_data)\n",
    "\n",
    "def split_string(gpt_output: str):\n",
    "    parts = gpt_output.split('###')\n",
    "    return parts\n",
    "\n",
    "def delete_repeat(threshold, dataset_list: list, tar):\n",
    "    if len(dataset_list) == 0:\n",
    "        return True\n",
    "    for item in dataset_list:\n",
    "        rouge = Rouge()\n",
    "        scores = rouge.get_scores([item], [tar])\n",
    "        if scores[0]['rouge-l']['f'] > threshold:\n",
    "            return False\n",
    "    return True"
   ]
  },
  {
   "cell_type": "code",
   "execution_count": 2,
   "id": "1f79e26b-1cb8-4513-9c83-e0dd2752e8a8",
   "metadata": {},
   "outputs": [],
   "source": [
    "flag = 0\n",
    "final_seed_len = 5\n",
    "generate_time = 1\n",
    "num_list = list(range(len(df_seed)))\n",
    "selected_set = []\n",
    "prefix_prompt = \"\"\"\n",
    "You are asked to come up with a set of 5 diverse tasks. These task instructions will be given to a GPT model and we will evaluate the GPT model for completing the instructions.\n",
    "\n",
    "Here are the requirements:\n",
    "0. The theme of this task is about Shopping Concept Understanding, aims to evaluate the model's ability to understand shopping entities in the form of texts, such as product names, product categories, attributes, product descriptions, reviews, etc\n",
    "1. Try not to repeat the verb for each instruction to maximize diversity.\n",
    "2. The way of expressing words in the input_field needs to be diversified.\n",
    "3. In order to make the type of task be diverse, trying to generate task types different from the examples. The list should include diverse types of tasks like open-ended generation, classification, ranking, multi-choice etc.\n",
    "4. A GPT language model should be able to complete the output_field based on the input_field. \n",
    "5. The output_field should be an appropriate and correct response to the input_field. Make sure the output_field is less than 100 words.\n",
    "6. Each task needs to be enclosed with “###” just like the examples. Note that the task type should be at the beginning of the example.\n",
    "7. Input_field must end with 'Answer ' or 'Output: '. Make sure the input_field is more than 200 words!!!\n",
    "List of 5 tasks:\n",
    "\"\"\""
   ]
  },
  {
   "cell_type": "code",
   "execution_count": 3,
   "id": "c0bfa8c9-7991-4ab9-90ed-934a8e85371b",
   "metadata": {},
   "outputs": [],
   "source": [
    "prompt_gpt_input_list = []\n",
    "\n",
    "for i in range(generate_time):\n",
    "     while True:\n",
    "        selected_numbers = set(random.sample(num_list, final_seed_len))\n",
    "        if selected_numbers not in selected_set:\n",
    "            selected_set.append(selected_numbers)\n",
    "            break\n",
    "\n",
    "for set_item in selected_set[-generate_time:]:\n",
    "    df_final_seed = pd.DataFrame([], columns = [\"input_field\", \"output_field\", \"task_name\", \"task_type\", \"metric\", \"is_multiple_choice\"])\n",
    "    item_list = \"\"\n",
    "    for j in set_item:\n",
    "        df_final_seed.loc[len(df_final_seed)] = df_seed.loc[j]\n",
    "    for j in range(len(df_final_seed)):\n",
    "        temp_string = '\\n###\\n task_type:' + df_final_seed['task_type'][j] + \"\\n input_field: \" + str(df_final_seed['input_field'][j]) + '\\n output_field: ' + str(df_final_seed['output_field'][j]) + '\\n'\n",
    "        item_list += temp_string\n",
    "    prompt_gpt_input = prefix_prompt + item_list\n",
    "    prompt_gpt_input_list.append(prompt_gpt_input)"
   ]
  },
  {
   "cell_type": "code",
   "execution_count": 4,
   "id": "0c01b4f0-19b7-4261-95b9-09acd4d2a90d",
   "metadata": {},
   "outputs": [],
   "source": [
    "from http import HTTPStatus\n",
    "import dashscope\n",
    "import asyncio\n",
    "dashscope.api_key=\"###\"\n",
    "\n",
    "async def call_with_messages(msg):\n",
    "    messages = [\n",
    "        {'role': 'user', 'content': msg}]\n",
    "    response = dashscope.Generation.call(\n",
    "        'qwen-long',\n",
    "        messages=messages,\n",
    "        result_format='message',  # set the result is message format.\n",
    "    )\n",
    "    if response.status_code == HTTPStatus.OK:\n",
    "        return response\n",
    "    else:\n",
    "        print('Request id: %s, Status code: %s, error code: %s, error message: %s' % (\n",
    "            response.request_id, response.status_code,\n",
    "            response.code, response.message\n",
    "        ))\n",
    "        return 0"
   ]
  },
  {
   "cell_type": "code",
   "execution_count": 5,
   "id": "32ad6b18-391c-4f78-8283-b55499323ec7",
   "metadata": {},
   "outputs": [
    {
     "name": "stdout",
     "output_type": "stream",
     "text": [
      "Result accepted\n"
     ]
    }
   ],
   "source": [
    "async def main():   \n",
    "    msgs =  prompt_gpt_input_list\n",
    "    # 使用asyncio.gather来并行执行多个fetch_data函数  \n",
    "    tasks = [call_with_messages(msg) for msg in msgs]   \n",
    "    results = await asyncio.gather(*tasks)  \n",
    "    print(\"Result accepted\")\n",
    "    for result in results:  \n",
    "        if result == 0:\n",
    "            continue\n",
    "        string = result[\"output\"][\"choices\"][0][\"message\"][\"content\"]\n",
    "        tar_str_list = split_string(string)\n",
    "        for tar in tar_str_list:\n",
    "            if tar != \"\" and delete_repeat(0.7, data_str, tar):\n",
    "                dataset_list.append({\"text\": tar})\n",
    "                data_str.append(tar)\n",
    "await main()"
   ]
  },
  {
   "cell_type": "code",
   "execution_count": 6,
   "id": "e74a3049-e035-4eab-9ee7-a34b488aa3e9",
   "metadata": {},
   "outputs": [],
   "source": [
    "json_data = json.dumps(dataset_list, indent=4, separators=(',', ': '))\n",
    "filename = 'shopping_chatglm_data.json'\n",
    "\n",
    "# 将JSON字符串写入文件\n",
    "with open(filename, 'w') as f:  \n",
    "    f.write(json_data)"
   ]
  },
  {
   "cell_type": "code",
   "execution_count": 7,
   "id": "51e21088-2329-40c8-a76b-30c3ba581aa5",
   "metadata": {},
   "outputs": [
    {
     "data": {
      "text/plain": [
       "[{'text': ' task_type:classification\\nInput: Classify the product category for the following product description: \"The XYZ blender features a powerful 1200-watt motor, multiple speed settings, and a large 64-ounce BPA-free pitcher, perfect for making smoothies, soups, and sauces.\"\\nOutput: Blender\\n\\n'},\n",
       " {'text': \" task_type:open-ended\\nInput: Output a detailed review for a customer who recently purchased a pair of running shoes with excellent shock absorption and breathable mesh material.\\nOutput: The XYZ running shoes have been a game-changer for my workouts! Their exceptional shock absorption has significantly reduced foot and joint fatigue during my runs. The breathable mesh material keeps my feet cool and dry, even during intense sessions, preventing any unpleasant odors or discomfort. The design is stylish and fits true to size. I appreciate the secure grip and stability they provide on various surfaces. Overall, I'm extremely satisfied with this purchase and would highly recommend these shoes to fellow runners looking for both performance and comfort.\"},\n",
       " {'text': \" task_type:classification\\ninput_field: Instructions: Determine if the product review is positive or negative. Input: This blender is so powerful, it can blend anything in seconds. I've been using it daily and it hasn't shown any signs of wear.\\nOutput:\\nOutput_field: Positive\\n\\n\"},\n",
       " {'text': ' task_type:rank\\ninput_field: Instructions: Rank the following product features in terms of their importance for a coffee maker: 1. Automatic shut-off, 2. Programmable timer, 3. Strength control, 4. Cup warmer, 5. Stainless steel carafe. Output the numbers in descending order of importance.\\nOutput:\\nOutput_field: 2, 1, 3, 5, 4\\n\\n'},\n",
       " {'text': ' task_type:cloze\\ninput_field: Instructions: Complete the sentence with the most suitable product attribute. This ___________ has a sleek design and is perfect for small kitchens. Options: a) blender b) refrigerator c) immersion blender d) microwave\\nOutput:\\nOutput_field: microwave\\n\\n'},\n",
       " {'text': ' task_type:open-ended\\ninput_field: Instructions: Describe the benefits of using a smart home security system compared to a traditional one. Output a few key points.\\nOutput:\\nOutput_field: A smart home security system offers remote monitoring, allowing users to check on their home from anywhere via a smartphone app. It can integrate with other smart devices for added convenience, such as automatically turning on lights when motion is detected. Alerts and notifications are sent instantly in case of any suspicious activity, ensuring faster response times. Smart systems often have customizable settings and can be more energy-efficient, as they only activate when needed.'},\n",
       " {'text': ' task_type:open-ended\\ninput_field: Describe the features of a high-quality running shoe suitable for long-distance runs. Output: \\noutput_field: A high-quality running shoe for long-distance runs typically features excellent cushioning to absorb impact, durable outsoles with good grip, breathable and lightweight materials for comfort, a sturdy midsole for stability, and a responsive design that propels the runner forward. It should also have a snug yet comfortable fit, arch support, and possibly additional technologies for shock absorption and injury prevention.\\n\\n'},\n",
       " {'text': ' task_type:classification\\ninput_field: Given a customer review, classify it as either positive or negative. Review: \"I recently bought the \\'Samsung Galaxy Watch4\\' and I\\'m thoroughly impressed by its battery life and seamless integration with my phone. However, the watch face options are limited compared to competitors.\" Answer: \\noutput_field: Positive\\n\\n'},\n",
       " {'text': ' task_type:extractive_summarization\\ninput_field: Customer Review: \"The \\'Bose QuietComfort Earbuds\\' exceeded my expectations in noise cancellation. They\\'re perfect for commuting and provide outstanding audio quality. The only downside is their relatively short battery life when compared to other models in the market.\" Answer: \\noutput_field: Bose QuietComfort Earbuds deliver exceptional noise cancellation and audio quality, ideal for commuting, but have a shorter battery life than competitors.\\n\\n'},\n",
       " {'text': \" task_type:cloze_test\\ninput_field: The product 'Philips Sonicare ProtectiveClean 6100 Electric Toothbrush' offers a unique feature called ____, which gently increases power over time to adapt to your brushing. Fill in the blank with the correct feature name. Answer: \\noutput_field: Smartimer\\n\\n\"},\n",
       " {'text': \" task_type:yes_no_question\\ninput_field: Can the product 'Keurig K-Classic Coffee Maker' brew single cups and carafes? Answer: \\noutput_field: Yes\"},\n",
       " {'text': \" task_type:classification\\ninput_field: Given a product review, determine whether the sentiment expressed is positive or negative. Output 'Positive' if the sentiment is generally favorable, and 'Negative' if it is unfavorable. Do not generate anything else.\\nReview: The blender works wonders for smoothies, but it's a bit noisy and the buttons are hard to press. Overall, I'm satisfied.\\nAnswer: \\noutput_field: Positive\\n\\n\"},\n",
       " {'text': \" task_type:extractive_summarization\\ninput_field: Write a brief summary of the main features of the product 'Samsung Galaxy S21 Ultra 5G, Phantom Black - 128GB'. The phone comes with a 6.8-inch touchscreen display with a resolution of 1440x3200 pixels, 128GB of internal storage, a powerful Exynos 2100 processor, a 108-megapixel primary camera, a 40-megapixel front camera, a 5000mAh battery, and 12GB of RAM.\\nAnswer: \\noutput_field: Features: 6.8-inch 1440x3200 display, 128GB storage, Exynos 2100 processor, 108MP primary camera, 40MP front camera, 5000mAh battery, 12GB RAM\\n\\n\"},\n",
       " {'text': \" task_type:cloze_test\\ninput_field: Complete the sentence: The customer was pleased with the '___' because it had excellent sound quality and a sleek design. Options: 1) headphones, 2) television, 3) refrigerator, 4) microwave\\nAnswer: \\noutput_field: headphones\\n\\n\"},\n",
       " {'text': ' task_type:rank\\ninput_field: Rank the following products based on their suitability for a camping trip, from most suitable to least suitable: tent, sleeping bag, iron, portable stove\\nAnswer: \\noutput_field: 1) tent, 2) portable stove, 3) sleeping bag, 4) iron'},\n",
       " {'text': ' task_type:classification\\ninput_field: You\\'re browsing through a home goods store and come across a product named \"Bamboo Smart Cutting Board, Non-Slip, dishwasher safe, FDA approved, and抗菌抗菌设计\". Based on the product description, classify it into one of these categories: Kitchen Utensils, Cleaning Tools, Tableware, or Sanitation Products.\\nOutput: Kitchen Utensils'}]"
      ]
     },
     "execution_count": 7,
     "metadata": {},
     "output_type": "execute_result"
    }
   ],
   "source": [
    "dataset_list"
   ]
  },
  {
   "cell_type": "code",
   "execution_count": null,
   "id": "9438b3bc-4d41-425b-a383-5cd22ec279c2",
   "metadata": {},
   "outputs": [],
   "source": []
  }
 ],
 "metadata": {
  "kernelspec": {
   "display_name": "test_for_deeplearning",
   "language": "python",
   "name": "test_for_deeplearning"
  },
  "language_info": {
   "codemirror_mode": {
    "name": "ipython",
    "version": 3
   },
   "file_extension": ".py",
   "mimetype": "text/x-python",
   "name": "python",
   "nbconvert_exporter": "python",
   "pygments_lexer": "ipython3",
   "version": "3.11.8"
  }
 },
 "nbformat": 4,
 "nbformat_minor": 5
}
