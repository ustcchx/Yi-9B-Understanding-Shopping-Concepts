{
 "cells": [
  {
   "cell_type": "code",
   "execution_count": 1,
   "id": "d0fb6847-ca0c-43fe-bc2b-f85e0d9622ba",
   "metadata": {},
   "outputs": [],
   "source": [
    "import json\n",
    "import asyncio\n",
    "import random\n",
    "from zhipuai import ZhipuAI\n",
    "import pandas as pd\n",
    "from rouge import Rouge\n",
    "import nltk\n",
    "import nest_asyncio\n",
    "import time\n",
    "nest_asyncio.apply()\n",
    "dataset_list = []\n",
    "\n",
    "with open(\"development.json\", \"r\") as file:\n",
    "    seed_data = json.load(file)\n",
    "\n",
    "with open(\"shopping_chatglm_data.json\", \"r\") as file:\n",
    "    dataset_list = json.load(file)\n",
    "data_str = [item[\"text\"] for item in dataset_list]\n",
    "df_seed = pd.DataFrame(seed_data)"
   ]
  },
  {
   "cell_type": "code",
   "execution_count": 2,
   "id": "a355113c-b03d-4394-a0b4-9e4b770abf06",
   "metadata": {},
   "outputs": [],
   "source": [
    "def split_string(gpt_output: str):\n",
    "    parts = gpt_output.split('###')\n",
    "    return parts\n",
    "\n",
    "def delete_repeat(threshold, dataset_list: list, tar):\n",
    "    if len(dataset_list) == 0:\n",
    "        return True\n",
    "    for item in dataset_list:\n",
    "        rouge = Rouge()\n",
    "        scores = rouge.get_scores([item], [tar])\n",
    "        if scores[0]['rouge-l']['f'] > threshold:\n",
    "            return False\n",
    "    return True\n",
    "\n",
    "async def create_request(client, model, messages):\n",
    "    response = client.chat.asyncCompletions.create(model=model, messages=messages)\n",
    "    return response.id\n",
    "\n",
    "flag = 0\n",
    "async def check_task_status(client, task_id):\n",
    "    get_cnt = 0\n",
    "    while True:\n",
    "        result_response = client.chat.asyncCompletions.retrieve_completion_result(id=task_id)\n",
    "        # print(result_response)\n",
    "        task_status = result_response.task_status\n",
    "        if task_status == 'FAILED':\n",
    "            return [task_status, None]\n",
    "        elif task_status == 'SUCCESS':\n",
    "            print(str(task_id) + ' SUCCESS')\n",
    "            return [task_status, result_response.dict()['choices'][0]['message']['content']]\n",
    "        get_cnt += 1\n",
    "    return ['FAILED', None]  # 如果超时，返回FAILED"
   ]
  },
  {
   "cell_type": "code",
   "execution_count": 4,
   "id": "ed8aee70-c672-45d7-a1b8-026974190a10",
   "metadata": {},
   "outputs": [],
   "source": [
    "client = ZhipuAI(api_key=\"###\")\n",
    "flag = 0\n",
    "final_seed_len = 5\n",
    "generate_time = 1\n",
    "num_list = list(range(len(df_seed)))\n",
    "selected_set = []\n",
    "prefix_prompt = \"\"\"\n",
    "You are asked to come up with a set of 2 diverse tasks. These task instructions will be given to a GPT model and we will evaluate the GPT model for completing the instructions.\n",
    "\n",
    "Here are the requirements:\n",
    "0. The theme of this task is about Shopping Concept Understanding, aims to evaluate the model's ability to understand shopping entities in the form of texts, such as product names, product categories, attributes, product descriptions, reviews, etc\n",
    "1. Try not to repeat the verb for each instruction to maximize diversity.\n",
    "2. The way of expressing words in the input_field needs to be diversified.\n",
    "3. In order to make the type of task be diverse, trying to generate task types different from the examples. The list should include diverse types of tasks like open-ended generation, classification, ranking, multi-choice etc.\n",
    "4. A GPT language model should be able to complete the output_field based on the input_field. \n",
    "5. The output_field should be an appropriate and correct response to the input_field. Make sure the output_field is less than 100 words.\n",
    "6. Each task needs to be enclosed with “###” just like the examples. Note that the task type should be at the beginning of the example.\n",
    "7. input_field must end with 'Answer ' or 'Output: '. \n",
    "List of 5 tasks:\n",
    "\"\"\""
   ]
  },
  {
   "cell_type": "code",
   "execution_count": 5,
   "id": "e54183b0-5c07-410d-839a-0249a0662479",
   "metadata": {},
   "outputs": [
    {
     "ename": "APIInternalError",
     "evalue": "Error code: 500, with error text {\"error\":{\"code\":\"106\",\"message\":\"AMOUNT_NOT_ENOUGH\"}}",
     "output_type": "error",
     "traceback": [
      "\u001b[1;31m---------------------------------------------------------------------------\u001b[0m",
      "\u001b[1;31mAPIInternalError\u001b[0m                          Traceback (most recent call last)",
      "\u001b[1;32m~\\AppData\\Local\\Temp\\ipykernel_33320\\2725916651.py\u001b[0m in \u001b[0;36m<cell line: 0>\u001b[1;34m()\u001b[0m\n\u001b[0;32m     36\u001b[0m                     \u001b[0mdata_str\u001b[0m\u001b[1;33m.\u001b[0m\u001b[0mappend\u001b[0m\u001b[1;33m(\u001b[0m\u001b[0mtar\u001b[0m\u001b[1;33m)\u001b[0m\u001b[1;33m\u001b[0m\u001b[1;33m\u001b[0m\u001b[0m\n\u001b[0;32m     37\u001b[0m \u001b[1;33m\u001b[0m\u001b[0m\n\u001b[1;32m---> 38\u001b[1;33m \u001b[0masyncio\u001b[0m\u001b[1;33m.\u001b[0m\u001b[0mrun\u001b[0m\u001b[1;33m(\u001b[0m\u001b[0mmain\u001b[0m\u001b[1;33m(\u001b[0m\u001b[1;33m)\u001b[0m\u001b[1;33m)\u001b[0m\u001b[1;33m\u001b[0m\u001b[1;33m\u001b[0m\u001b[0m\n\u001b[0m",
      "\u001b[1;32m~\\anaconda3\\envs\\test_for_deeplearning\\Lib\\site-packages\\nest_asyncio.py\u001b[0m in \u001b[0;36mrun\u001b[1;34m(main, debug)\u001b[0m\n\u001b[0;32m     28\u001b[0m         \u001b[0mtask\u001b[0m \u001b[1;33m=\u001b[0m \u001b[0masyncio\u001b[0m\u001b[1;33m.\u001b[0m\u001b[0mensure_future\u001b[0m\u001b[1;33m(\u001b[0m\u001b[0mmain\u001b[0m\u001b[1;33m)\u001b[0m\u001b[1;33m\u001b[0m\u001b[1;33m\u001b[0m\u001b[0m\n\u001b[0;32m     29\u001b[0m         \u001b[1;32mtry\u001b[0m\u001b[1;33m:\u001b[0m\u001b[1;33m\u001b[0m\u001b[1;33m\u001b[0m\u001b[0m\n\u001b[1;32m---> 30\u001b[1;33m             \u001b[1;32mreturn\u001b[0m \u001b[0mloop\u001b[0m\u001b[1;33m.\u001b[0m\u001b[0mrun_until_complete\u001b[0m\u001b[1;33m(\u001b[0m\u001b[0mtask\u001b[0m\u001b[1;33m)\u001b[0m\u001b[1;33m\u001b[0m\u001b[1;33m\u001b[0m\u001b[0m\n\u001b[0m\u001b[0;32m     31\u001b[0m         \u001b[1;32mfinally\u001b[0m\u001b[1;33m:\u001b[0m\u001b[1;33m\u001b[0m\u001b[1;33m\u001b[0m\u001b[0m\n\u001b[0;32m     32\u001b[0m             \u001b[1;32mif\u001b[0m \u001b[1;32mnot\u001b[0m \u001b[0mtask\u001b[0m\u001b[1;33m.\u001b[0m\u001b[0mdone\u001b[0m\u001b[1;33m(\u001b[0m\u001b[1;33m)\u001b[0m\u001b[1;33m:\u001b[0m\u001b[1;33m\u001b[0m\u001b[1;33m\u001b[0m\u001b[0m\n",
      "\u001b[1;32m~\\anaconda3\\envs\\test_for_deeplearning\\Lib\\site-packages\\nest_asyncio.py\u001b[0m in \u001b[0;36mrun_until_complete\u001b[1;34m(self, future)\u001b[0m\n\u001b[0;32m     96\u001b[0m                 raise RuntimeError(\n\u001b[0;32m     97\u001b[0m                     'Event loop stopped before Future completed.')\n\u001b[1;32m---> 98\u001b[1;33m             \u001b[1;32mreturn\u001b[0m \u001b[0mf\u001b[0m\u001b[1;33m.\u001b[0m\u001b[0mresult\u001b[0m\u001b[1;33m(\u001b[0m\u001b[1;33m)\u001b[0m\u001b[1;33m\u001b[0m\u001b[1;33m\u001b[0m\u001b[0m\n\u001b[0m\u001b[0;32m     99\u001b[0m \u001b[1;33m\u001b[0m\u001b[0m\n\u001b[0;32m    100\u001b[0m     \u001b[1;32mdef\u001b[0m \u001b[0m_run_once\u001b[0m\u001b[1;33m(\u001b[0m\u001b[0mself\u001b[0m\u001b[1;33m)\u001b[0m\u001b[1;33m:\u001b[0m\u001b[1;33m\u001b[0m\u001b[1;33m\u001b[0m\u001b[0m\n",
      "\u001b[1;32m~\\anaconda3\\envs\\test_for_deeplearning\\Lib\\asyncio\\futures.py\u001b[0m in \u001b[0;36mresult\u001b[1;34m(self)\u001b[0m\n\u001b[0;32m    201\u001b[0m         \u001b[0mself\u001b[0m\u001b[1;33m.\u001b[0m\u001b[0m__log_traceback\u001b[0m \u001b[1;33m=\u001b[0m \u001b[1;32mFalse\u001b[0m\u001b[1;33m\u001b[0m\u001b[1;33m\u001b[0m\u001b[0m\n\u001b[0;32m    202\u001b[0m         \u001b[1;32mif\u001b[0m \u001b[0mself\u001b[0m\u001b[1;33m.\u001b[0m\u001b[0m_exception\u001b[0m \u001b[1;32mis\u001b[0m \u001b[1;32mnot\u001b[0m \u001b[1;32mNone\u001b[0m\u001b[1;33m:\u001b[0m\u001b[1;33m\u001b[0m\u001b[1;33m\u001b[0m\u001b[0m\n\u001b[1;32m--> 203\u001b[1;33m             \u001b[1;32mraise\u001b[0m \u001b[0mself\u001b[0m\u001b[1;33m.\u001b[0m\u001b[0m_exception\u001b[0m\u001b[1;33m.\u001b[0m\u001b[0mwith_traceback\u001b[0m\u001b[1;33m(\u001b[0m\u001b[0mself\u001b[0m\u001b[1;33m.\u001b[0m\u001b[0m_exception_tb\u001b[0m\u001b[1;33m)\u001b[0m\u001b[1;33m\u001b[0m\u001b[1;33m\u001b[0m\u001b[0m\n\u001b[0m\u001b[0;32m    204\u001b[0m         \u001b[1;32mreturn\u001b[0m \u001b[0mself\u001b[0m\u001b[1;33m.\u001b[0m\u001b[0m_result\u001b[0m\u001b[1;33m\u001b[0m\u001b[1;33m\u001b[0m\u001b[0m\n\u001b[0;32m    205\u001b[0m \u001b[1;33m\u001b[0m\u001b[0m\n",
      "\u001b[1;32m~\\anaconda3\\envs\\test_for_deeplearning\\Lib\\asyncio\\tasks.py\u001b[0m in \u001b[0;36m__step\u001b[1;34m(***failed resolving arguments***)\u001b[0m\n\u001b[0;32m    275\u001b[0m                 \u001b[1;31m# We use the `send` method directly, because coroutines\u001b[0m\u001b[1;33m\u001b[0m\u001b[1;33m\u001b[0m\u001b[0m\n\u001b[0;32m    276\u001b[0m                 \u001b[1;31m# don't have `__iter__` and `__next__` methods.\u001b[0m\u001b[1;33m\u001b[0m\u001b[1;33m\u001b[0m\u001b[0m\n\u001b[1;32m--> 277\u001b[1;33m                 \u001b[0mresult\u001b[0m \u001b[1;33m=\u001b[0m \u001b[0mcoro\u001b[0m\u001b[1;33m.\u001b[0m\u001b[0msend\u001b[0m\u001b[1;33m(\u001b[0m\u001b[1;32mNone\u001b[0m\u001b[1;33m)\u001b[0m\u001b[1;33m\u001b[0m\u001b[1;33m\u001b[0m\u001b[0m\n\u001b[0m\u001b[0;32m    278\u001b[0m             \u001b[1;32melse\u001b[0m\u001b[1;33m:\u001b[0m\u001b[1;33m\u001b[0m\u001b[1;33m\u001b[0m\u001b[0m\n\u001b[0;32m    279\u001b[0m                 \u001b[0mresult\u001b[0m \u001b[1;33m=\u001b[0m \u001b[0mcoro\u001b[0m\u001b[1;33m.\u001b[0m\u001b[0mthrow\u001b[0m\u001b[1;33m(\u001b[0m\u001b[0mexc\u001b[0m\u001b[1;33m)\u001b[0m\u001b[1;33m\u001b[0m\u001b[1;33m\u001b[0m\u001b[0m\n",
      "\u001b[1;32m~\\AppData\\Local\\Temp\\ipykernel_33320\\2725916651.py\u001b[0m in \u001b[0;36mmain\u001b[1;34m()\u001b[0m\n\u001b[0;32m     23\u001b[0m     \u001b[0mtask_ids\u001b[0m \u001b[1;33m=\u001b[0m \u001b[1;33m[\u001b[0m\u001b[1;33m]\u001b[0m\u001b[1;33m\u001b[0m\u001b[1;33m\u001b[0m\u001b[0m\n\u001b[0;32m     24\u001b[0m     \u001b[1;32mfor\u001b[0m \u001b[0minput\u001b[0m \u001b[1;32min\u001b[0m \u001b[0mprompt_gpt_input_list\u001b[0m\u001b[1;33m:\u001b[0m\u001b[1;33m\u001b[0m\u001b[1;33m\u001b[0m\u001b[0m\n\u001b[1;32m---> 25\u001b[1;33m         \u001b[0mtask_id\u001b[0m \u001b[1;33m=\u001b[0m \u001b[1;32mawait\u001b[0m \u001b[0mcreate_request\u001b[0m\u001b[1;33m(\u001b[0m\u001b[0mclient\u001b[0m\u001b[1;33m,\u001b[0m \u001b[1;34m\"glm-4\"\u001b[0m\u001b[1;33m,\u001b[0m \u001b[1;33m[\u001b[0m\u001b[1;33m{\u001b[0m\u001b[1;34m'role'\u001b[0m\u001b[1;33m:\u001b[0m \u001b[1;34m'user'\u001b[0m\u001b[1;33m,\u001b[0m \u001b[1;34m'content'\u001b[0m\u001b[1;33m:\u001b[0m \u001b[0minput\u001b[0m\u001b[1;33m}\u001b[0m\u001b[1;33m]\u001b[0m\u001b[1;33m)\u001b[0m\u001b[1;33m\u001b[0m\u001b[1;33m\u001b[0m\u001b[0m\n\u001b[0m\u001b[0;32m     26\u001b[0m         \u001b[0mtask_ids\u001b[0m\u001b[1;33m.\u001b[0m\u001b[0mappend\u001b[0m\u001b[1;33m(\u001b[0m\u001b[0mtask_id\u001b[0m\u001b[1;33m)\u001b[0m\u001b[1;33m\u001b[0m\u001b[1;33m\u001b[0m\u001b[0m\n\u001b[0;32m     27\u001b[0m \u001b[1;33m\u001b[0m\u001b[0m\n",
      "\u001b[1;32m~\\AppData\\Local\\Temp\\ipykernel_33320\\1717638574.py\u001b[0m in \u001b[0;36mcreate_request\u001b[1;34m(client, model, messages)\u001b[0m\n\u001b[0;32m     14\u001b[0m \u001b[1;33m\u001b[0m\u001b[0m\n\u001b[0;32m     15\u001b[0m \u001b[1;32masync\u001b[0m \u001b[1;32mdef\u001b[0m \u001b[0mcreate_request\u001b[0m\u001b[1;33m(\u001b[0m\u001b[0mclient\u001b[0m\u001b[1;33m,\u001b[0m \u001b[0mmodel\u001b[0m\u001b[1;33m,\u001b[0m \u001b[0mmessages\u001b[0m\u001b[1;33m)\u001b[0m\u001b[1;33m:\u001b[0m\u001b[1;33m\u001b[0m\u001b[1;33m\u001b[0m\u001b[0m\n\u001b[1;32m---> 16\u001b[1;33m     \u001b[0mresponse\u001b[0m \u001b[1;33m=\u001b[0m \u001b[0mclient\u001b[0m\u001b[1;33m.\u001b[0m\u001b[0mchat\u001b[0m\u001b[1;33m.\u001b[0m\u001b[0masyncCompletions\u001b[0m\u001b[1;33m.\u001b[0m\u001b[0mcreate\u001b[0m\u001b[1;33m(\u001b[0m\u001b[0mmodel\u001b[0m\u001b[1;33m=\u001b[0m\u001b[0mmodel\u001b[0m\u001b[1;33m,\u001b[0m \u001b[0mmessages\u001b[0m\u001b[1;33m=\u001b[0m\u001b[0mmessages\u001b[0m\u001b[1;33m)\u001b[0m\u001b[1;33m\u001b[0m\u001b[1;33m\u001b[0m\u001b[0m\n\u001b[0m\u001b[0;32m     17\u001b[0m     \u001b[1;32mreturn\u001b[0m \u001b[0mresponse\u001b[0m\u001b[1;33m.\u001b[0m\u001b[0mid\u001b[0m\u001b[1;33m\u001b[0m\u001b[1;33m\u001b[0m\u001b[0m\n\u001b[0;32m     18\u001b[0m \u001b[1;33m\u001b[0m\u001b[0m\n",
      "\u001b[1;32m~\\anaconda3\\envs\\test_for_deeplearning\\Lib\\site-packages\\zhipuai\\api_resource\\chat\\async_completions.py\u001b[0m in \u001b[0;36mcreate\u001b[1;34m(self, model, request_id, do_sample, temperature, top_p, max_tokens, seed, messages, stop, sensitive_word_check, tools, tool_choice, extra_headers, disable_strict_validation, timeout)\u001b[0m\n\u001b[0;32m     43\u001b[0m         \u001b[1;32mif\u001b[0m \u001b[0mdisable_strict_validation\u001b[0m\u001b[1;33m:\u001b[0m\u001b[1;33m\u001b[0m\u001b[1;33m\u001b[0m\u001b[0m\n\u001b[0;32m     44\u001b[0m             \u001b[0m_cast_type\u001b[0m \u001b[1;33m=\u001b[0m \u001b[0mobject\u001b[0m\u001b[1;33m\u001b[0m\u001b[1;33m\u001b[0m\u001b[0m\n\u001b[1;32m---> 45\u001b[1;33m         return self._post(\n\u001b[0m\u001b[0;32m     46\u001b[0m             \u001b[1;34m\"/async/chat/completions\"\u001b[0m\u001b[1;33m,\u001b[0m\u001b[1;33m\u001b[0m\u001b[1;33m\u001b[0m\u001b[0m\n\u001b[0;32m     47\u001b[0m             body={\n",
      "\u001b[1;32m~\\anaconda3\\envs\\test_for_deeplearning\\Lib\\site-packages\\zhipuai\\core\\_http_client.py\u001b[0m in \u001b[0;36mpost\u001b[1;34m(self, path, body, cast_type, options, files, enable_stream, stream_cls)\u001b[0m\n\u001b[0;32m    290\u001b[0m                                             **options)\n\u001b[0;32m    291\u001b[0m \u001b[1;33m\u001b[0m\u001b[0m\n\u001b[1;32m--> 292\u001b[1;33m         return self.request(\n\u001b[0m\u001b[0;32m    293\u001b[0m             \u001b[0mcast_type\u001b[0m\u001b[1;33m=\u001b[0m\u001b[0mcast_type\u001b[0m\u001b[1;33m,\u001b[0m \u001b[0mparams\u001b[0m\u001b[1;33m=\u001b[0m\u001b[0mopts\u001b[0m\u001b[1;33m,\u001b[0m\u001b[1;33m\u001b[0m\u001b[1;33m\u001b[0m\u001b[0m\n\u001b[0;32m    294\u001b[0m             \u001b[0menable_stream\u001b[0m\u001b[1;33m=\u001b[0m\u001b[0menable_stream\u001b[0m\u001b[1;33m,\u001b[0m\u001b[1;33m\u001b[0m\u001b[1;33m\u001b[0m\u001b[0m\n",
      "\u001b[1;32m~\\anaconda3\\envs\\test_for_deeplearning\\Lib\\site-packages\\zhipuai\\core\\_http_client.py\u001b[0m in \u001b[0;36mrequest\u001b[1;34m(self, cast_type, params, enable_stream, stream_cls)\u001b[0m\n\u001b[0;32m    249\u001b[0m             \u001b[0merr\u001b[0m\u001b[1;33m.\u001b[0m\u001b[0mresponse\u001b[0m\u001b[1;33m.\u001b[0m\u001b[0mread\u001b[0m\u001b[1;33m(\u001b[0m\u001b[1;33m)\u001b[0m\u001b[1;33m\u001b[0m\u001b[1;33m\u001b[0m\u001b[0m\n\u001b[0;32m    250\u001b[0m             \u001b[1;31m# raise err\u001b[0m\u001b[1;33m\u001b[0m\u001b[1;33m\u001b[0m\u001b[0m\n\u001b[1;32m--> 251\u001b[1;33m             \u001b[1;32mraise\u001b[0m \u001b[0mself\u001b[0m\u001b[1;33m.\u001b[0m\u001b[0m_make_status_error\u001b[0m\u001b[1;33m(\u001b[0m\u001b[0merr\u001b[0m\u001b[1;33m.\u001b[0m\u001b[0mresponse\u001b[0m\u001b[1;33m)\u001b[0m \u001b[1;32mfrom\u001b[0m \u001b[1;32mNone\u001b[0m\u001b[1;33m\u001b[0m\u001b[1;33m\u001b[0m\u001b[0m\n\u001b[0m\u001b[0;32m    252\u001b[0m \u001b[1;33m\u001b[0m\u001b[0m\n\u001b[0;32m    253\u001b[0m         \u001b[1;32mexcept\u001b[0m \u001b[0mException\u001b[0m \u001b[1;32mas\u001b[0m \u001b[0merr\u001b[0m\u001b[1;33m:\u001b[0m\u001b[1;33m\u001b[0m\u001b[1;33m\u001b[0m\u001b[0m\n",
      "\u001b[1;31mAPIInternalError\u001b[0m: Error code: 500, with error text {\"error\":{\"code\":\"106\",\"message\":\"AMOUNT_NOT_ENOUGH\"}}"
     ]
    }
   ],
   "source": [
    "prompt_gpt_input_list = []\n",
    "\n",
    "for i in range(generate_time):\n",
    "     while True:\n",
    "        selected_numbers = set(random.sample(num_list, final_seed_len))\n",
    "        if selected_numbers not in selected_set:\n",
    "            selected_set.append(selected_numbers)\n",
    "            break\n",
    "\n",
    "for set_item in selected_set[-generate_time:]:\n",
    "    df_final_seed = pd.DataFrame([], columns = [\"input_field\", \"output_field\", \"task_name\", \"task_type\", \"metric\", \"is_multiple_choice\"])\n",
    "    item_list = \"\"\n",
    "    for j in set_item:\n",
    "        df_final_seed.loc[len(df_final_seed)] = df_seed.loc[j]\n",
    "    for j in range(len(df_final_seed)):\n",
    "        temp_string = '\\n###\\n task_type:' + df_final_seed['task_type'][j] + \"\\n input_field: \" + str(df_final_seed['input_field'][j]) + '\\n output_field: ' + str(df_final_seed['output_field'][j]) + '\\n'\n",
    "        item_list += temp_string\n",
    "    prompt_gpt_input = prefix_prompt + item_list\n",
    "    prompt_gpt_input_list.append(prompt_gpt_input)\n",
    "\n",
    "\n",
    "async def main():\n",
    "    task_ids = []\n",
    "    for input in prompt_gpt_input_list:\n",
    "        task_id = await create_request(client, \"glm-4\", [{'role': 'user', 'content': input}])\n",
    "        task_ids.append(task_id)\n",
    "\n",
    "    for task_id in task_ids:\n",
    "        task_status = await check_task_status(client, task_id)\n",
    "        #print(f\"任务 {task_id} 的状态是： {task_status}\")\n",
    "        if task_status[0] == 'SUCCESS':\n",
    "            tar_str_list = split_string(task_status[1])\n",
    "            for tar in tar_str_list:\n",
    "                if tar != \"\" and delete_repeat(0.7, data_str, tar):\n",
    "                    dataset_list.append({\"text\": tar})\n",
    "                    data_str.append(tar)\n",
    "\n",
    "asyncio.run(main())"
   ]
  },
  {
   "cell_type": "code",
   "execution_count": 13,
   "id": "014dda00-14e8-4eb7-8508-75940f0f638f",
   "metadata": {},
   "outputs": [],
   "source": [
    "json_data = json.dumps(dataset_list, indent=4, separators=(',', ': '))\n",
    "filename = 'shopping_chatglm_data.json'\n",
    "# 将JSON字符串写入文件\n",
    "with open(filename, 'w') as f:\n",
    "    f.write(json_data)"
   ]
  },
  {
   "cell_type": "code",
   "execution_count": 14,
   "id": "6fad91ce-b54d-4973-9c24-00817a467131",
   "metadata": {},
   "outputs": [
    {
     "data": {
      "text/plain": [
       "[\"\\nYou are asked to come up with a set of 20 diverse task. These task instructions will be given to a GPT model and we will evaluate the GPT model for completing the instructions.\\n\\nHere are the requirements:\\n0. The theme of this task is about Shopping Concept Understanding, aims to evaluate the model's ability to understand shopping entities in the form of texts, such as product names, product categories, attributes, product descriptions, reviews, etc\\n1. Try not to repeat the verb for each instruction to maximize diversity.\\n2. The way of expressing words in the input_field needs to be diversified.\\n3. In order to make the type of task be diverse, trying to generate task types different from the examples. The list should include diverse types of tasks like open-ended generation, classification, ranking, multi-choice etc.\\n4. A GPT language model should be able to complete the output_field based on the input_field. \\n5. The output_field should be an appropriate and correct response to the input_field. Make sure the output_field is less than 100 words.\\n6. Each task needs to be enclosed with “###” just like the examples. Note that the task type should be at the beginning of the example.\\n7. input_field must end with 'Answer ' or 'Output: '. \\nList of 5 tasks:\\n\\n###\\n task_type:retrieval\\n input_field: \\nYou are given a user review given to a(n) bra product. You are also given a numbered list of ten aspects. \\nPlease choose three aspects from the list that are covered by the review. \\nYou should ONLY output three numbers, separated by comma. Do not generate explanations or other texts. \\nReview: \\nVery comfortable and supportive, as a 38D it’s hard to find a good bra. True to size\\nAspect List: \\n1.stability\\n2.magnet strength\\n3.straps\\n4.lid\\n5.hook\\n6.comfort\\n7.value\\n8.support\\n9.quality\\n10.fit\\nOutput: \\n output_field: [6, 8, 10]\\n\\n###\\n task_type:retrieval\\n input_field: You are a user on an online shopping platform. You make queries and click on products to eventually find the product you want and make your purchase. \\nSuppose you have just performed the following sequence of actions of queries, clicks, and purchases. What is most likely to be the keyword of your next query? \\nYou are given a numbered list of ten candidate queries. Select three from the list that you think most likely. Output ONLY three numbers separated with comma. Do not give explanations. \\n\\nAction Sequence:\\nAdd product 'Stand Mixer, Aicok Dough Mixer with 5 Qt Stainless Steel Bowl, 6 Speeds Tilt-Head Food Mixer, Kitchen Electric Mixer with Double Dough Hooks, Whisk, Beater, Pouring Shield, Black' to cart\\nPurchase product 'Stand Mixer, Aicok Dough Mixer with 5 Qt Stainless Steel Bowl, 6 Speeds Tilt-Head Food Mixer, Kitchen Electric Mixer with Double Dough Hooks, Whisk, Beater, Pouring Shield, Black'\\nQuery keyword 'pool vacuum for above ground pools'\\nClick on product 'Hayward W900 Wanda the Whale Above-Ground Pool Vacuum (Automatic Pool Cleaner)'\\nClick on product 'Hayward W900 Wanda the Whale Above-Ground Pool Vacuum (Automatic Pool Cleaner)'\\nQuery keyword 'chlorine'\\nClick on product 'CLOROX Pool&amp;Spa XtraBlue 3-Inch Long Lasting Chlorinating Tablets, 5-Pound Chlorine'\\nQuery keyword 'intex pool vacuum'\\nClick on product 'Poolmaster 28300 Big Sucker Swimming Pool Leaf Vacuum'\\nClick on product 'Intex 28620EP Rechagreable Handheld Vacuum, Grey'\\nPurchase product 'ASURION 4 Year Kitchen Protection Plan $70-79.99'\\nClick on product 'Intex Handheld Rechargeable Vacuum with Telescoping Aluminum Shaft and Two Interchangeable Brush Heads , Gray/Black'\\nClick on product 'Flowclear Deluxe Maintenance Kit'\\nClick on product 'Flowclear Deluxe Maintenance Kit'\\nClick on product 'WORX WA4054.2 LeafPro Universal Leaf Collection System for All Major Blower/Vac Brands'\\nQuery keyword 'intex pool volleyball net'\\nClick on product 'Poolmaster Super Combo Water Volleyball and Badminton Swimming Pool Game'\\nFollow up click on product 'Poolmaster Swimming Pool Basketball and Volleyball Game Combo, Above-Ground Pool'\\nQuery keyword 'intex pool above ground volleyball net'\\nFollow up click on product 'Poolmaster Swimming Pool Basketball and Volleyball Game Combo, Above-Ground Pool'\\nQuery keyword 'intex pool clip on volleyball net'\\nClick on product 'Intex Pool Bench, Foldable Seat for Above Ground Pools'\\n\\nCandidate Query List:\\n1. intex pool volleyball net\\n2. black and stainless cabinet hardware\\n3. intex pool clip on volleyball net\\n4. intex pool above ground volleyball net\\n5. hanging spice rack\\n6. intex pool vacuum\\n7. womens pale blue tops\\n8. sram 10 speed gx rear derailleur and shifter\\n9. tie rod end\\n10. baby girl stuff\\nOutput (answer in three comma-separated numbers): \\n output_field: [4]\\n\\n###\\n task_type:multiple-choice\\n input_field: Select the category of products that can have the attribute eu spare part availability duration.\\n0. tarpaulin\\n1. bed sheet\\n2. saw\\n3. suitcase\\nAnswer: \\n output_field: 0\\n\\n###\\n task_type:multiple-choice\\n input_field: The product 'Vanity Fair Entertain Paper Napkins, 3-Ply Disposable Napkins, Dinner Size (24 packs of 40 Napkins)' appears on e-commerce website. What is the total count of disposable napkins in this package?\\n0. 120 count\\n1. 660 count\\n2. 1040 count\\n3. 960 count\\nAnswer: \\n output_field: 3\\n\\n###\\n task_type:multiple-choice\\n input_field: The product 'M & H Melanin Multi-Use Softening Leave In Conditioner,16 Oz. Formulated with Nourishing Baobab Oil, Turnip Root,ProVitamin B5,Hydrate, Soften and Condition, 16 Fl Oz (Pack of 1)' appears on an e-commerce website.  What type of hair can be used for it?\\n0. It cannot be inferred.\\n1. all\\n2. dry\\n3. all hair\\nAnswer: \\n output_field: 0\\n\"]"
      ]
     },
     "execution_count": 14,
     "metadata": {},
     "output_type": "execute_result"
    }
   ],
   "source": [
    "prompt_gpt_input_list"
   ]
  },
  {
   "cell_type": "code",
   "execution_count": null,
   "id": "8446981e-1a4f-4b49-8b86-f89c3df8e811",
   "metadata": {},
   "outputs": [],
   "source": []
  }
 ],
 "metadata": {
  "kernelspec": {
   "display_name": "test_for_deeplearning",
   "language": "python",
   "name": "test_for_deeplearning"
  },
  "language_info": {
   "codemirror_mode": {
    "name": "ipython",
    "version": 3
   },
   "file_extension": ".py",
   "mimetype": "text/x-python",
   "name": "python",
   "nbconvert_exporter": "python",
   "pygments_lexer": "ipython3",
   "version": "3.11.8"
  }
 },
 "nbformat": 4,
 "nbformat_minor": 5
}
