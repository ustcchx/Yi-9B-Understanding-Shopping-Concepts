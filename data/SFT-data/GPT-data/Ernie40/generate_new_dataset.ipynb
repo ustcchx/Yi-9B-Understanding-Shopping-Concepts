{
 "cells": [
  {
   "cell_type": "code",
   "execution_count": 1,
   "id": "8829e0c1-bed9-498f-9061-c9e415a9fbe8",
   "metadata": {},
   "outputs": [],
   "source": [
    "import json\n",
    "import requests\n",
    "import asyncio\n",
    "import random\n",
    "import pandas as pd\n",
    "from rouge import Rouge\n",
    "import nltk\n",
    "import nest_asyncio\n",
    "import time\n",
    "import aiohttp  \n",
    "\n",
    "nest_asyncio.apply()\n",
    "dataset_list = []\n",
    "\n",
    "with open(\"development.json\", \"r\") as file:\n",
    "    seed_data = json.load(file)\n",
    "\n",
    "with open(\"shopping_chatglm_data.json\", \"r\") as file:\n",
    "    dataset_list = json.load(file)\n",
    "data_str = [item[\"text\"] for item in dataset_list]\n",
    "df_seed = pd.DataFrame(seed_data)\n",
    "\n",
    "def split_string(gpt_output: str):\n",
    "    parts = gpt_output.split('###')\n",
    "    return parts\n",
    "\n",
    "def delete_repeat(threshold, dataset_list: list, tar):\n",
    "    if len(dataset_list) == 0:\n",
    "        return True\n",
    "    for item in dataset_list:\n",
    "        rouge = Rouge()\n",
    "        scores = rouge.get_scores([item], [tar])\n",
    "        if scores[0]['rouge-l']['f'] > threshold:\n",
    "            return False\n",
    "    return True"
   ]
  },
  {
   "cell_type": "code",
   "execution_count": 2,
   "id": "1f79e26b-1cb8-4513-9c83-e0dd2752e8a8",
   "metadata": {},
   "outputs": [],
   "source": [
    "flag = 0\n",
    "final_seed_len = 8\n",
    "generate_time = 100\n",
    "num_list = list(range(len(df_seed)))\n",
    "selected_set = []\n",
    "prefix_prompt = \"\"\"\n",
    "You are asked to come up with a set of 20 diverse task Instructions&Input/Questions/Problems. These task instructions will be given to a GPT model and we will evaluate the GPT model for completing the instructions.\n",
    "\n",
    "Here are the requirements:\n",
    "0. The theme of this task is about Shopping Concept Understanding, aims to evaluate the model's ability to understand shopping entities in the form of texts, such as product names, product categories, attributes, product descriptions, reviews, etc\n",
    "1. Try not to repeat the verb for each instruction to maximize diversity.\n",
    "2. The language used for the Instructions&Input/Questions/Problems also should be diverse.\n",
    "3. In order to make the type of task be diverse, trying to generate task types different from the examples. The list should include diverse types of tasks like open-ended generation, classification, ranking, multi-choice etc.\n",
    "2. A GPT language model should be able to complete the Instructions&Input/Questions/Problems. \n",
    "4. The Instructions&Input/Questions/Problems should be 1 to 4 sentences long. Either an imperative sentence or a question is permitted.\n",
    "5. The Output/Answer should be an appropriate and correct response to the Instructions&Input/Questions/Problems. Make sure the Output/Answer is less than 100 words.\n",
    "6. Each task needs to be enclosed with “###” just like the examples.\n",
    "List of 8 tasks:\n",
    "\"\"\""
   ]
  },
  {
   "cell_type": "code",
   "execution_count": 3,
   "id": "c0bfa8c9-7991-4ab9-90ed-934a8e85371b",
   "metadata": {},
   "outputs": [],
   "source": [
    "prompt_gpt_input_list = []\n",
    "\n",
    "for i in range(generate_time):\n",
    "     while True:\n",
    "        selected_numbers = set(random.sample(num_list, final_seed_len))\n",
    "        if selected_numbers not in selected_set:\n",
    "            selected_set.append(selected_numbers)\n",
    "            break\n",
    "\n",
    "for set_item in selected_set[-generate_time:]:\n",
    "    df_final_seed = pd.DataFrame([], columns = [\"input_field\", \"output_field\", \"task_name\", \"task_type\", \"metric\", \"is_multiple_choice\"])\n",
    "    item_list = \"\"\n",
    "    for j in set_item:\n",
    "        df_final_seed.loc[len(df_final_seed)] = df_seed.loc[j]\n",
    "    for j in range(len(df_final_seed)):\n",
    "        temp_string = '\\n###\\n' + str(df_final_seed['input_field'][j]) + '\\n' + str(df_final_seed['output_field'][j]) + '\\n'\n",
    "        item_list += temp_string\n",
    "    prompt_gpt_input = prefix_prompt + item_list\n",
    "    prompt_gpt_input_list.append(prompt_gpt_input)"
   ]
  },
  {
   "cell_type": "code",
   "execution_count": 4,
   "id": "22c0f90b-34f1-4a59-a822-af4d9b844df6",
   "metadata": {},
   "outputs": [
    {
     "name": "stdout",
     "output_type": "stream",
     "text": [
      "Results accepted\n"
     ]
    }
   ],
   "source": [
    "async def get_access_token():\n",
    "    \"\"\"\n",
    "    使用 API Key，Secret Key 获取access_token，替换下列示例中的应用API Key、应用Secret Key\n",
    "    \"\"\"\n",
    "        \n",
    "    url = \"https://aip.baidubce.com/oauth/2.0/token?grant_type=client_credentials&client_id=###&client_secret=###\"\n",
    "    \n",
    "    payload = json.dumps(\"\")\n",
    "    headers = {\n",
    "        'Content-Type': 'application/json',\n",
    "        'Accept': 'application/json'\n",
    "    }\n",
    "    \n",
    "    response = requests.request(\"POST\", url, headers=headers, data=payload)\n",
    "    return response.json().get(\"access_token\")\n",
    "  \n",
    "async def create_request(input, session):  \n",
    "    url = \"https://aip.baidubce.com/rpc/2.0/ai_custom/v1/wenxinworkshop/chat/completions_pro?access_token=\" + await get_access_token()  \n",
    "    payload = json.dumps({  \n",
    "        \"messages\": [  \n",
    "            {  \n",
    "                \"role\": \"user\",  \n",
    "                \"content\": input  \n",
    "            }  \n",
    "        ]  \n",
    "    })  \n",
    "    headers = {  \n",
    "        'Content-Type': 'application/json'  \n",
    "    }  \n",
    "    async with session.post(url, headers=headers, data=payload.encode('utf-8')) as response:  \n",
    "        return await response.text()  \n",
    "  \n",
    "async def main():  \n",
    "    async with aiohttp.ClientSession() as session:  \n",
    "        # 假设我们有一个输入列表  \n",
    "        inputs = prompt_gpt_input_list\n",
    "        # 创建一个任务列表  \n",
    "        tasks = [create_request(input, session) for input in inputs]  \n",
    "        # 使用gather等待所有任务完成并获取结果  \n",
    "        results = await asyncio.gather(*tasks)  \n",
    "        print(\"Results accepted\")\n",
    "        for result in results:  \n",
    "            s = json.loads(result)\n",
    "            if \"result\" not in s.keys():\n",
    "                continue\n",
    "            tar_str_list = split_string(s[\"result\"])\n",
    "            for tar in tar_str_list:\n",
    "                if tar != \"\" and delete_repeat(0.7, data_str, tar):\n",
    "                    dataset_list.append({\"text\": tar})\n",
    "                    data_str.append(tar)\n",
    "  \n",
    "# 运行主函数  \n",
    "asyncio.run(main())"
   ]
  },
  {
   "cell_type": "code",
   "execution_count": 5,
   "id": "e74a3049-e035-4eab-9ee7-a34b488aa3e9",
   "metadata": {},
   "outputs": [],
   "source": [
    "json_data = json.dumps(dataset_list, indent=4, separators=(',', ': '))\n",
    "filename = 'shopping_chatglm_data.json'\n",
    "\n",
    "# 将JSON字符串写入文件\n",
    "with open(filename, 'w') as f:  \n",
    "    f.write(json_data)"
   ]
  },
  {
   "cell_type": "code",
   "execution_count": 9,
   "id": "c48d38e4-0a7b-4927-9d3d-6bd6ce09215c",
   "metadata": {},
   "outputs": [],
   "source": [
    "a = {2: \"df\"}"
   ]
  },
  {
   "cell_type": "code",
   "execution_count": 11,
   "id": "79a7a3cb-5cc8-4d26-96bd-6a84059aafa1",
   "metadata": {},
   "outputs": [
    {
     "data": {
      "text/plain": [
       "True"
      ]
     },
     "execution_count": 11,
     "metadata": {},
     "output_type": "execute_result"
    }
   ],
   "source": [
    "2 in a.keys()"
   ]
  }
 ],
 "metadata": {
  "kernelspec": {
   "display_name": "test_for_deeplearning",
   "language": "python",
   "name": "test_for_deeplearning"
  },
  "language_info": {
   "codemirror_mode": {
    "name": "ipython",
    "version": 3
   },
   "file_extension": ".py",
   "mimetype": "text/x-python",
   "name": "python",
   "nbconvert_exporter": "python",
   "pygments_lexer": "ipython3",
   "version": "3.11.8"
  }
 },
 "nbformat": 4,
 "nbformat_minor": 5
}
