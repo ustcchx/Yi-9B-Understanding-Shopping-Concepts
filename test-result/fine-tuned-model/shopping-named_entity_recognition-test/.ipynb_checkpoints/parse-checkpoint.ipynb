{
 "cells": [
  {
   "cell_type": "code",
   "execution_count": 20,
   "id": "9fef4d7a-e7d3-4f40-bbe7-40771608faf6",
   "metadata": {},
   "outputs": [],
   "source": [
    "# 在进行评测之前，我们进行了人工答案析取，将输出标准化\n",
    "import json  \n",
    "from sklearn.metrics import precision_score, recall_score, f1_score\n",
    "def read_jsonl(file_path):  \n",
    "    with open(file_path, 'r', encoding='utf-8') as file:  \n",
    "        for line in file:  \n",
    "            # 使用json.loads将每行的JSON字符串转换为Python对象  \n",
    "            yield json.loads(line)  \n",
    "  \n",
    "# 使用函数\n",
    "average = 0\n",
    "file_path = 'generated_predictions-process.jsonl'  # 替换为你的JSONL文件路径  \n",
    "total = 0\n",
    "for data in read_jsonl(file_path): \n",
    "    s1 = eval(data['label'].lower())\n",
    "    s2 = eval(data['predict'].lower())\n",
    "    min_len = min(len(s1), len(s2))\n",
    "    f1 = f1_score(s1[:min_len], s2[:min_len], average='micro')\n",
    "    average += f1\n",
    "    total += 1\n",
    "average = average/total\n",
    "    # 在这里处理每个JSON对象  \n",
    "    "
   ]
  },
  {
   "cell_type": "code",
   "execution_count": 22,
   "id": "00a260ff-da43-41a5-b43a-c10a1dac2d19",
   "metadata": {},
   "outputs": [
    {
     "name": "stdout",
     "output_type": "stream",
     "text": [
      "micro-Fscore: 0.7273706896551723\n"
     ]
    }
   ],
   "source": [
    "print(f\"micro-Fscore: {average}\")"
   ]
  }
 ],
 "metadata": {
  "kernelspec": {
   "display_name": "test_for_deeplearning",
   "language": "python",
   "name": "test_for_deeplearning"
  },
  "language_info": {
   "codemirror_mode": {
    "name": "ipython",
    "version": 3
   },
   "file_extension": ".py",
   "mimetype": "text/x-python",
   "name": "python",
   "nbconvert_exporter": "python",
   "pygments_lexer": "ipython3",
   "version": "3.11.8"
  }
 },
 "nbformat": 4,
 "nbformat_minor": 5
}
