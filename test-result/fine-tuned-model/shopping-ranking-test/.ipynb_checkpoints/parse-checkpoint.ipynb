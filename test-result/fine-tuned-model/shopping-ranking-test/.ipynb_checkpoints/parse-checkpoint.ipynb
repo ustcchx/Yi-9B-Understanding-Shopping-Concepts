{
 "cells": [
  {
   "cell_type": "code",
   "execution_count": 1,
   "id": "d71daf02-d526-49a0-92ef-f5a5be29a7c3",
   "metadata": {},
   "outputs": [],
   "source": [
    "# 在进行评测之前，我们进行了人工答案析取，将输出标准化\n",
    "import json  \n",
    "from sklearn.metrics import precision_score, recall_score, f1_score\n",
    "def read_jsonl(file_path):  \n",
    "    with open(file_path, 'r', encoding='utf-8') as file:  \n",
    "        for line in file:  \n",
    "            # 使用json.loads将每行的JSON字符串转换为Python对象  \n",
    "            yield json.loads(line)  \n",
    "  \n",
    "# 检查人工规则析取答案是否准确\n",
    "average = 0\n",
    "file_path = 'generated_predictions-process.jsonl'    \n",
    "total = 0\n",
    "for data in read_jsonl(file_path): \n",
    "    s1 = eval(data['label'].lower())\n",
    "    s2 = eval(data['predict'].lower())\n",
    "    if set(s1) != set(s2):\n",
    "        print(f\"{total}: {s1}           {s2}\")\n",
    "    total += 1\n",
    "average = average/total\n",
    "    # 在这里处理每个JSON对象  \n",
    "\n",
    "# 最后得到的文件总共删除了12条数据，在下面的评测指标中，我们认定该12个数据条取最差指标"
   ]
  },
  {
   "cell_type": "code",
   "execution_count": 2,
   "id": "fe779e81-9672-4302-b737-9694d11093b6",
   "metadata": {},
   "outputs": [
    {
     "name": "stdout",
     "output_type": "stream",
     "text": [
      "NDCG@3: 1.6685806033750894\n"
     ]
    }
   ],
   "source": [
    "import numpy as np  \n",
    "  \n",
    "def dcg_at_k(r, k, method=0):  \n",
    "    \"\"\"  \n",
    "    计算DCG@k  \n",
    "    r: 相关性得分列表（按照排名顺序）  \n",
    "    k: 考虑前k个项目的DCG  \n",
    "    method: 用于计算增益的方法，默认为0  \n",
    "            0: rel_i  \n",
    "            1: 2^rel_i - 1  \n",
    "    \"\"\"  \n",
    "    r = np.asfarray(r)[:k]  \n",
    "    if r.size:  \n",
    "        if method == 0:  \n",
    "            return np.sum(r / np.log2(np.arange(2, r.size + 2)))  \n",
    "        elif method == 1:  \n",
    "            return np.sum((2 ** r - 1) / np.log2(np.arange(2, r.size + 2)))  \n",
    "    return 0.  \n",
    "  \n",
    "def ndcg_at_k(r, s, k):  \n",
    "    \"\"\"  \n",
    "    计算NDCG@k  \n",
    "    r: 排序列表的相关性得分列表（按照排名顺序）  \n",
    "    s: 理想排序列表的相关性得分列表（按照相关性从高到低排序）  \n",
    "    k: 考虑前k个项目的NDCG  \n",
    "    \"\"\"  \n",
    "    dcg_r = dcg_at_k(r, k)  \n",
    "    dcg_s = dcg_at_k(s, k)  \n",
    "    if not dcg_s:  \n",
    "        return 0.  \n",
    "    return dcg_r / dcg_s  \n",
    "\n",
    "def generate_scores_from_ranking(ranking):  \n",
    "    \"\"\"根据标签在排序中的位置生成递减的相关性分数\"\"\"  \n",
    "    return list(range(len(ranking), 0, -1))  # 最高分是标签数量，依次递减  \n",
    "  \n",
    "def calculate_ndcg_at_k(ideal_ranking, predicted_ranking, k):  \n",
    "    \"\"\"计算NDCG@k\"\"\"  \n",
    "    # 生成理想排序的相关性分数（递减）  \n",
    "    ideal_scores = generate_scores_from_ranking(ideal_ranking)  \n",
    "    # 生成预测排序的相关性分数（基于位置，但可能与理想排序的分数不同）  \n",
    "    dict_ = {}\n",
    "    for i in range(len(ideal_ranking)):\n",
    "        dict_[ideal_ranking[i]] = ideal_scores[i]\n",
    "    predicted_scores = [dict_[item] for item in predicted_ranking]\n",
    "    return ndcg_at_k(ideal_scores, predicted_scores, k)\n",
    "     \n",
    "  \n",
    "# 示例  \n",
    "ideal_ranking = ['item1', 'item2', 'item4', 'item3']  # 理想排序  \n",
    "predicted_ranking = ['item4', 'item3', 'item2', 'item1']  # 预测排序  \n",
    "k = 3  # 只考虑前3个项目的NDCG  \n",
    "  \n",
    "ndcg = calculate_ndcg_at_k(ideal_ranking, predicted_ranking, k)  \n",
    "print(f\"NDCG@{k}: {ndcg}\")"
   ]
  },
  {
   "cell_type": "code",
   "execution_count": 3,
   "id": "75264327-e3f3-4222-a580-632d56c10ee7",
   "metadata": {},
   "outputs": [],
   "source": [
    "file_path = 'generated_predictions-process.jsonl'    \n",
    "total = 0\n",
    "for data in read_jsonl(file_path): \n",
    "    s1 = eval(data['label'].lower())\n",
    "    s2 = eval(data['predict'].lower())\n",
    "    ndcg = calculate_ndcg_at_k(s1, s2, 4)\n",
    "    total += ndcg\n",
    "total += 12 * calculate_ndcg_at_k([1,2,3,4], [4,3,2,1], 4)"
   ]
  },
  {
   "cell_type": "code",
   "execution_count": 4,
   "id": "2962127c-a2e1-4ff7-b0b1-334f878a97c2",
   "metadata": {},
   "outputs": [
    {
     "name": "stdout",
     "output_type": "stream",
     "text": [
      "NDCG@4: 1.081858327790425\n"
     ]
    }
   ],
   "source": [
    "average_score = total / 248\n",
    "print(f\"average-NDCG@4: {average_score}\")"
   ]
  },
  {
   "cell_type": "code",
   "execution_count": null,
   "id": "aa67b01f-4a11-4cf3-b7fb-21dfe784d55d",
   "metadata": {},
   "outputs": [],
   "source": []
  }
 ],
 "metadata": {
  "kernelspec": {
   "display_name": "Python 3 (ipykernel)",
   "language": "python",
   "name": "python3"
  },
  "language_info": {
   "codemirror_mode": {
    "name": "ipython",
    "version": 3
   },
   "file_extension": ".py",
   "mimetype": "text/x-python",
   "name": "python",
   "nbconvert_exporter": "python",
   "pygments_lexer": "ipython3",
   "version": "3.11.7"
  }
 },
 "nbformat": 4,
 "nbformat_minor": 5
}
